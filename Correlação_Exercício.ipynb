{
  "nbformat": 4,
  "nbformat_minor": 0,
  "metadata": {
    "colab": {
      "name": "Correlação_Exercício.ipynb",
      "provenance": [],
      "authorship_tag": "ABX9TyOCKnRslXo3io/KXpF7fl8v",
      "include_colab_link": true
    },
    "kernelspec": {
      "name": "python3",
      "display_name": "Python 3"
    },
    "language_info": {
      "name": "python"
    }
  },
  "cells": [
    {
      "cell_type": "markdown",
      "metadata": {
        "id": "view-in-github",
        "colab_type": "text"
      },
      "source": [
        "<a href=\"https://colab.research.google.com/github/raapassos/DataScience/blob/main/Correla%C3%A7%C3%A3o_Exerc%C3%ADcio.ipynb\" target=\"_parent\"><img src=\"https://colab.research.google.com/assets/colab-badge.svg\" alt=\"Open In Colab\"/></a>"
      ]
    },
    {
      "cell_type": "code",
      "metadata": {
        "id": "eqdcXuZgwDpO"
      },
      "source": [
        "import numpy as np\n",
        "from sklearn import datasets, linear_model\n",
        "import matplotlib.pyplot as plt\n",
        "from sklearn.metrics import mean_squared_error, r2_score"
      ],
      "execution_count": 1,
      "outputs": []
    },
    {
      "cell_type": "code",
      "metadata": {
        "colab": {
          "base_uri": "https://localhost:8080/",
          "height": 283
        },
        "id": "CxO4vzu1Uffi",
        "outputId": "88e49670-8702-4279-afec-1e30c82f7370"
      },
      "source": [
        "Receita = np.array([2,15,25,35,45,55,65,75,80,85,32,62,2,15,25,35,45,55,65,75,80,85,32,62])\n",
        "Preco = np.array([10,20,14,32,22,38,41,52,55,61,21,44,10,20,14,32,22,38,41,52,55,61,21,44])\n",
        "\n",
        "plt.scatter(Receita,Preco, color='black')\n",
        "plt.show"
      ],
      "execution_count": 4,
      "outputs": [
        {
          "output_type": "execute_result",
          "data": {
            "text/plain": [
              "<function matplotlib.pyplot.show>"
            ]
          },
          "metadata": {
            "tags": []
          },
          "execution_count": 4
        },
        {
          "output_type": "display_data",
          "data": {
            "image/png": "[encoded data removed]",
            "text/plain": [
              "<Figure size 432x288 with 1 Axes>"
            ]
          },
          "metadata": {
            "tags": [],
            "needs_background": "light"
          }
        }
      ]
    },
    {
      "cell_type": "code",
      "metadata": {
        "colab": {
          "base_uri": "https://localhost:8080/",
          "height": 317
        },
        "id": "g0iTvn7aVGBQ",
        "outputId": "e24825fc-5ea3-4926-ef24-52c42ebd44b1"
      },
      "source": [
        "Receita = np.array([2,15,25,35,45,55,65,75,80,85,32,62,2,15,25,35,45,55,65,75,80,85,32,62])\n",
        "Preco = np.array([10,20,14,32,22,38,41,52,55,61,21,44,10,20,14,32,22,38,41,52,55,61,21,44])\n",
        "\n",
        "regr = linear_model.LinearRegression()\n",
        "regr.fit(Receita.reshape(-1,1),Preco)\n",
        "y = regr.predict(Receita.reshape(-1,1))\n",
        "\n",
        "print('Coefficients: /n', regr.coef_)\n",
        "print('Intercept: /n', regr.intercept_)\n",
        "\n",
        "plt.scatter(Receita, Preco, color='black')\n",
        "plt.plot(Receita, y, color='blue', linewidth=3)"
      ],
      "execution_count": 5,
      "outputs": [
        {
          "output_type": "stream",
          "text": [
            "Coefficients: /n [0.60582822]\n",
            "Intercept: /n 5.08691206543967\n"
          ],
          "name": "stdout"
        },
        {
          "output_type": "execute_result",
          "data": {
            "text/plain": [
              "[<matplotlib.lines.Line2D at 0x7fb04d69ca10>]"
            ]
          },
          "metadata": {
            "tags": []
          },
          "execution_count": 5
        },
        {
          "output_type": "display_data",
          "data": {
            "image/png": "[encoded data removed]",
            "text/plain": [
              "<Figure size 432x288 with 1 Axes>"
            ]
          },
          "metadata": {
            "tags": [],
            "needs_background": "light"
          }
        }
      ]
    },
    {
      "cell_type": "code",
      "metadata": {
        "id": "L2Uz9a2aX1DN"
      },
      "source": [
        ""
      ],
      "execution_count": null,
      "outputs": []
    }
  ]
}